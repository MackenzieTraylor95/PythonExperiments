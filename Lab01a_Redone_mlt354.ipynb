{
 "cells": [
  {
   "cell_type": "markdown",
   "metadata": {},
   "source": [
    "# Programming for Applied Data Science - Lab 1 Part A\n",
    "\n",
    "Normally, your lab would consist of exercises covering content from both of the programming and data wrangling notebooks for a module. This first module is special since we are just starting out. The module will take two weeks where I expect you to finish the Introduction to Programming with Python, Part A notebook during the first week.\n",
    "\n",
    "This lab will only use topics from the Introduction to Programming with Python, Part A notebook."
   ]
  },
  {
   "cell_type": "markdown",
   "metadata": {},
   "source": [
    "-----\n",
    "## 1 Data Types and Operations     \n",
    "\n",
    "### 1.1 Strings   \n",
    "\n",
    "It is hard to believe that early computers did not support handling text. Luckily, Python has both a string data type and several operations that it can perform on strings. A handy list of Python string operations is available at [W3Schools](https://www.w3schools.com/python/python_ref_string.asp).\n"
   ]
  },
  {
   "cell_type": "code",
   "execution_count": 4,
   "metadata": {},
   "outputs": [
    {
     "name": "stdout",
     "output_type": "stream",
     "text": [
      "Hello\n",
      "World\n",
      "\n",
      "He said,\"That is strange.\"\n",
      "\n",
      "She goes by 'Beth'\n"
     ]
    }
   ],
   "source": [
    "# Python is very flexible, strings can be enclosed with single quotes (') \n",
    "# or double quotes (\")\n",
    "print(\"Hello\")\n",
    "print('World')\n",
    "print()\n",
    "\n",
    "# The only that it really matters is when you want a ' or \" in a string\n",
    "# Then you use the opposite quotes to enclose your string.\n",
    "\n",
    "print('He said,\"That is strange.\"')\n",
    "print()\n",
    "# a. write the line of code that prints \n",
    "#    She goes by 'Beth'\n",
    "\n",
    "print(\"She goes by 'Beth'\")"
   ]
  },
  {
   "cell_type": "code",
   "execution_count": 6,
   "metadata": {},
   "outputs": [
    {
     "name": "stdout",
     "output_type": "stream",
     "text": [
      "George Washington\n",
      "GEORGE WASHINGTON\n",
      "\n",
      "george washington\n"
     ]
    }
   ],
   "source": [
    "# There are case conversion functions for strings.\n",
    "name = \"George Washington\"\n",
    "uc_name = name.upper()\n",
    "print(name)\n",
    "print(uc_name)\n",
    "print()\n",
    "\n",
    "# Note that the function did not modify the original string\n",
    "# name = name.upper()\n",
    "# would change the contents of 'name'\n",
    "\n",
    "# b. write the code to store the lowercase version of the string to \n",
    "#    'lcname' and then print 'name' and 'lcname'\n",
    "\n",
    "# COMMENT forgot to print the value of name\n",
    "lcname = name.lower()\n",
    "print(lcname)\n",
    "\n",
    "# There are also swapcase() and title() functions"
   ]
  },
  {
   "cell_type": "code",
   "execution_count": 9,
   "metadata": {},
   "outputs": [
    {
     "name": "stdout",
     "output_type": "stream",
     "text": [
      "test_input.csv\n",
      "\n",
      "Jim,Carbona,32,Married\n"
     ]
    }
   ],
   "source": [
    "# Replacing characters within a string\n",
    "filename = \"test input.csv\"\n",
    "# What if we wanted _ instead of spaces inside the string\n",
    "filename = filename.replace(' ', '_')\n",
    "print(filename)  \n",
    "print() \n",
    "\n",
    "data_string = \"Jim:Carbona:32:Married\"\n",
    "data_string = data_string.replace(':', ',')\n",
    "print(data_string)\n",
    "\n",
    "# c. Replace the : in the data string with ,\n",
    "#    and then print the data string\n",
    "\n",
    "\n"
   ]
  },
  {
   "cell_type": "code",
   "execution_count": 11,
   "metadata": {},
   "outputs": [
    {
     "name": "stdout",
     "output_type": "stream",
     "text": [
      "['George', 'Washington', 'Carver']\n",
      "\n",
      "['Jim', 'Carbona', '32', 'Married']\n"
     ]
    }
   ],
   "source": [
    "# Splitting a string is another common operation.\n",
    "name = \"George Washington Carver\"\n",
    "names = name.split(' ')  # Creates a list of strings\n",
    "print(names)\n",
    "print()\n",
    "\n",
    "data_string = \"Jim:Carbona:32:Married\"\n",
    "data_string = data_string.split(\":\")\n",
    "print(data_string)\n",
    "# d. Split the data string on ':' and then print the\n",
    "#    list containing the individual pieces of data\n"
   ]
  },
  {
   "cell_type": "code",
   "execution_count": 14,
   "metadata": {},
   "outputs": [
    {
     "name": "stdout",
     "output_type": "stream",
     "text": [
      "True\n",
      "False\n",
      "\n",
      "True\n",
      "False\n"
     ]
    }
   ],
   "source": [
    "# Python also has many tests to run on strings...\n",
    "# endswith(), startswith(), isalpha(), isnumeric(), isdecimal(), isspace()\n",
    "city1 = \"Starkville, MS\"\n",
    "city2 = \"Starkville, CO\"\n",
    "\n",
    "print(city1.endswith(\"MS\"))\n",
    "print(city2.endswith(\"MS\"))\n",
    "print()\n",
    "\n",
    "input1 = \"23\"  # numeric\n",
    "input2 = \"Twenty three and a half\"  # not numeric, Python does not understand English\n",
    "\n",
    "# e. Print whether or not the input variables are numeric\n",
    "print(input1.isnumeric())\n",
    "print(input2.isnumeric())\n"
   ]
  },
  {
   "cell_type": "markdown",
   "metadata": {},
   "source": [
    "### 1.2 Numeric Types  \n",
    "\n",
    "Both integers and floating point numbers have many operators (+, -, *, /, etc.) defined. Here are a few of the operators that we don't use very often but come up quite often in programs.\n",
    "\n",
    "Division of integers has quite a few operators. As people, we are used to dividing integers and getting the result as a:\n",
    "* floating point number (5/2 = 2.5)\n",
    "* quotient and remainder (5/2 = 2 remainder 1, often expressed as [2 R 1](https://www.omnicalculator.com/math/remainder?calculatorResult=H4sIAAAAAAAAA81YTW%2FbMAz9K5mwwwqkQZxil6ArsLXYkEO7Q9ZdhqJQbNbRKsuZPoIFRf77KDl27CR2%2FZEUu0m09Pj4RJqWXwiIkAmYaqqBjF%2BIT7lvOE6Cn1QyOuOg7mgEiox%2FkTkLAhCPy%2FQB6RMBIdVsCY8SIspEAHJ00OqhtbDkj4k1A6FH%2BQde7oFHHvrEn1MRHqISsCVDLgFuqMXKK%2BW69VdBKrfDsopFwDSLhbKKMbEwujCw5FQsB0MyTse9d596QwRKeQ88fMbURGgIQX5IzWebJXb3aG8FWs%2FIuk9io%2Fc9vRAtWYhLmQhTvaxcZCwM532ypNzgREsD6yKP5js39JpsXONWwwoyzXjsP3%2BTsVkoF2ymQu%2ByN%2ByhZql2OD3rUbRvzyTVM48xHEQUCfmAcAM%2F5iYS1jg8rLQD3NfXmfOH5gyV1HZoeFsaXmsaNTEH%2FtyIZzvEnNSYue4YhFaF3Lvak6o5npfDu6yLV5LknWL2Uo5eaczuoK7Ss2usQoUHr9JDfV3KPYzyHi5PEMJFlYP9CEYnyOYyzNezOdG9NenX07um7M0dVJ5r7Qg6FVQZZt2Cak26Zj21lr1tOdkICu10pyPV7G9PlCvbGev1og6g5Z2lHDT%2FpVRs5J37yytOUeEj%2B6z%2FrdJAvUrQTupVF9bbOz2NfJW196b%2BLjr5K290XU%2BqVbs7QSSnKqxWzfD4%2Fo5QyK065AkiOVUNt%2Bqfjfy5ex6CLEEqvCB%2FjWVkOLX3ZLQDWq%2F%2Fq%2F8L8FdLekM1dRdT9TlYUuFDsImmj6bbeMY4ZAajQLrfJLERWq6u48Am1%2F0UgX0jJQh%2F5eY3OcN0Fc1ijub3aORUhIaGsNkJ4txtRtxJtECNKb8XTKv01twnT4mE1noDC8xgC3lLF4mk9nAPSImhRVQYyif2sq1yvwoS8hFa7QY7w5SY%2F8Yl5AsL70w0g1zbJiOyubcno6yKmqF8zFBwtE65Hf6rk3w2ZI4e0u%2Bz74Kvsh1JiA4%2BC64rr%2F5xJNpL4mZowwzNjQ5lejPAcy9DTIaHSqoZ5BbRjbYV1Um4bcU2g7nIYNyotVA7UbVWZ0fwtcPyY8azf6zU6FjRJSRZjO9hThcKgkmwyes58MUPfDXlSzx5ooCDj%2B9O946YchO6N%2Bt6%2FQ92oGUFxxUAAA%3D%3D))"
   ]
  },
  {
   "cell_type": "code",
   "execution_count": 26,
   "metadata": {},
   "outputs": [
    {
     "name": "stdout",
     "output_type": "stream",
     "text": [
      "5  /  2  =  2.5\n",
      "\n",
      "5  /  2  =  2  R  1\n",
      "\n",
      "Divisible by 3?\n",
      "3:  True\n",
      "4:  False\n",
      "5:  False\n",
      "6:  True\n",
      "\n",
      "Even?\n",
      "1 : False\n",
      "2 : True\n",
      "3 : False\n",
      "4 : True\n",
      "5 : False\n"
     ]
    }
   ],
   "source": [
    "dividend = 5\n",
    "divisor = 2\n",
    "\n",
    "answer1 = dividend / divisor\n",
    "print(dividend, \" / \", divisor, \" = \", answer1)\n",
    "print()\n",
    "\n",
    "answer2 = dividend // divisor  # obtains the quotient (an integer)\n",
    "# the % operator is called the 'modulo' operator\n",
    "answer3 = dividend % divisor  # obtains the remainder\n",
    "print(dividend, \" / \", divisor, \" = \", answer2, \" R \", answer3)\n",
    "print()\n",
    "\n",
    "# The modulo operator is surprising useful, it lets you know if a \n",
    "# number is evenly divisible by the divisor\n",
    "print(\"Divisible by 3?\")\n",
    "print(\"3: \", 3%3 == 0)\n",
    "print(\"4: \", 4%3 == 0)\n",
    "print(\"5: \", 5%3 == 0)\n",
    "print(\"6: \", 6%3 == 0)\n",
    "print()\n",
    "\n",
    "# a. Print the numbers 1 through 5 and whether each is even (divisible by 2)\n",
    "#    (Feel free to use a loop if you would like)\n",
    "print(\"Even?\")\n",
    "\n",
    "numerical_range = range(1, 6, 1)\n",
    "\n",
    "for number in numerical_range:\n",
    "    print(number, \": \", end = \"\")\n",
    "    print(number %2 == 0)\n",
    "    \n",
    "    \n",
    "    \n"
   ]
  },
  {
   "cell_type": "markdown",
   "metadata": {},
   "source": [
    "<br>\n",
    "\n",
    "Converting strings to numbers is often needed. Most of the time, user input is read as a string. \n",
    "If the program needs to do math on the input, the input must be converted to a numeric type."
   ]
  },
  {
   "cell_type": "code",
   "execution_count": 31,
   "metadata": {},
   "outputs": [
    {
     "name": "stdout",
     "output_type": "stream",
     "text": [
      "23  +  4  =  27\n",
      "\n",
      "7.25  *  9.3  =  67.42500000000001\n"
     ]
    }
   ],
   "source": [
    "input1 = \"23\"\n",
    "input2 = \"4\"\n",
    "\n",
    "int1 = int(input1)\n",
    "int2 = int(input2)\n",
    "print(int1, ' + ', int2, ' = ', int1 + int2)\n",
    "print()\n",
    "\n",
    "# b. Assign input3 and input4 strings that represent floating point numbers\n",
    "#    Create two floating point variables containing the values expressed by the\n",
    "#    input strings (Hint: float()). Print the result of multiplying the two \n",
    "#    floating point numbers.\n",
    "\n",
    "# COMMENT was expecting input3 and input4 to be strings: \"7.25\" and \"9.30\",\n",
    "#         but your code would still work since you used the float() function\n",
    "\n",
    "#FIX\n",
    "input3 = \"7.25\"\n",
    "input4 = \"9.30\"\n",
    "\n",
    "string1 = float(input3)\n",
    "string2 = float(input4)\n",
    "print(string1, ' * ', string2, ' = ', string1*string2)\n",
    "\n"
   ]
  },
  {
   "cell_type": "markdown",
   "metadata": {},
   "source": [
    "### 1.3 Boolean Values  \n",
    "\n",
    "We often see Boolean values (`True` or `False`) when testing numbers (==, <, <=, >, >=) or when calling Python functions (`isnumeric()`, `islower()`, etc.).  These Boolean values are most often used in Loops and Decision Making (next section)."
   ]
  },
  {
   "cell_type": "code",
   "execution_count": 29,
   "metadata": {},
   "outputs": [
    {
     "name": "stdout",
     "output_type": "stream",
     "text": [
      "True\n",
      "False\n",
      "\n",
      "False\n",
      "True\n"
     ]
    }
   ],
   "source": [
    "# Python uses and, or, and not as the Boolean operators\n",
    "#\n",
    "# 'and' returns true if ALL of the tested values are true\n",
    "answer1 = True and True and True\n",
    "print(answer1)\n",
    "answer2 = True and False and True\n",
    "print(answer2)\n",
    "print()\n",
    "\n",
    "# is 33 less than 50 AND even?\n",
    "# you can use () to make the statement easier to read\n",
    "answer3 = (33<50) and (33%2 == 0)  #  == is the equal test\n",
    "print(answer3)\n",
    "\n",
    "# is 33 less than 50 and odd?\n",
    "answer4 = (33<50) and (33%2 != 0)  #  != is the not equal test\n",
    "print(answer4)"
   ]
  },
  {
   "cell_type": "code",
   "execution_count": 30,
   "metadata": {},
   "outputs": [
    {
     "name": "stdout",
     "output_type": "stream",
     "text": [
      "True\n",
      "True\n",
      "\n",
      "True\n",
      "True\n",
      "\n",
      "False\n"
     ]
    }
   ],
   "source": [
    "# 'or' returns true if ANY of the tested values are true\n",
    "answer1 = True or True or True\n",
    "print(answer1)\n",
    "answer2 = True or False or True\n",
    "print(answer2)\n",
    "print()\n",
    "\n",
    "# is 33 less than 50 OR even?\n",
    "# you can use () to make the statement easier to read\n",
    "answer3 = (33<50) or (33%2 == 0)  #  == is the equal test\n",
    "print(answer3)\n",
    "\n",
    "# is 33 less than 50 or odd?\n",
    "answer4 = (33<50) or (33%2 != 0)  #  != is the not equal test\n",
    "print(answer4)\n",
    "print()\n",
    "\n",
    "# the only way for 'or' to return false is for all of the tested\n",
    "# values be false\n",
    "answer5 = False or False or False or False\n",
    "print(answer5)"
   ]
  },
  {
   "cell_type": "code",
   "execution_count": 17,
   "metadata": {},
   "outputs": [
    {
     "name": "stdout",
     "output_type": "stream",
     "text": [
      "True\n",
      "\n",
      "True\n",
      "\n",
      "True\n",
      "\n",
      "False\n",
      "\n",
      "False\n",
      "\n",
      "False\n",
      "\n"
     ]
    }
   ],
   "source": [
    "# a. Print true if the input is greater than 0 and less than 101\n",
    "#    (Between 1 and 100, inclusive)\n",
    "#    Change the input several times to verify that your statement works\n",
    "input1 = 47\n",
    "answer1 = (input1>0) and (input1<101) \n",
    "print(answer1)\n",
    "print()\n",
    "\n",
    "input2 = 83\n",
    "answer2 = (input2>0) and (input2<101)\n",
    "print(answer2)\n",
    "print()\n",
    "\n",
    "#unsure if \"between 1 and 100, inclusive\" is mor instructions for code output or just instructions for input value\n",
    "# COMMENT intended it to clarify the instructions for code output, but I may have made it more\n",
    "#         confusing instead\n",
    "\n",
    "input3 = 3\n",
    "answer3 = (input3>0) and (input3<101)\n",
    "print(answer3)\n",
    "print()\n",
    "\n",
    "# COMMENT Might want to check values outside of 1 to 100 to make sure the code works (try 0, -1, 200, etc.)\n",
    "\n",
    "input4 = -1\n",
    "answer4 = (input4>0) and (input4<101)\n",
    "print(answer4)\n",
    "print()\n",
    "\n",
    "input5 = 0\n",
    "answer5 = (input5>0) and (input5<101)\n",
    "print(answer5)\n",
    "print()\n",
    "\n",
    "input6 = 298\n",
    "answer6 = (input6>0) and (input6<101)\n",
    "print(answer6)\n",
    "print()"
   ]
  },
  {
   "cell_type": "markdown",
   "metadata": {},
   "source": [
    "-----\n",
    "## 2 Loops, Data Collections, and Decision Making     \n",
    "\n"
   ]
  },
  {
   "cell_type": "code",
   "execution_count": 37,
   "metadata": {},
   "outputs": [
    {
     "name": "stdout",
     "output_type": "stream",
     "text": [
      "1  2  3  4  5  6  7  8  9  10  \n",
      "10  9  8  7  6  5  4  3  2  1  \n",
      "1  4  7  10  13  16  19  \n",
      "\n",
      "4 8 12 16 20 24 28 32 36 40 44 48 52 56 60 64 68 \n"
     ]
    }
   ],
   "source": [
    "# Numeric loops usually use range to generate values\n",
    "for i in range(1, 11):\n",
    "    print(i, end=\"  \")\n",
    "print()\n",
    "\n",
    "# Counting backwards\n",
    "for i in range(10, 0, -1):\n",
    "    print(i, end=\"  \")\n",
    "print()\n",
    "\n",
    "# Count by 3s to 20\n",
    "for i in range(1, 21, 3):\n",
    "    print(i, end=\"  \")\n",
    "print()\n",
    "print()\n",
    "\n",
    "# a. Print the numbers from 4 to 64 by 4s\n",
    "\n",
    "# COMMENT meant for you to print the 64 as well (-5 pts)\n",
    "#for i in range(4, 64, 4):\n",
    "    #print( i, end=\" \") \n",
    "#print()\n",
    "#I will read instructions more carefully from now on\n",
    "for i in range(4, 70, 4):\n",
    "    print( i, end=\" \") \n",
    "print()"
   ]
  },
  {
   "cell_type": "code",
   "execution_count": 51,
   "metadata": {},
   "outputs": [
    {
     "name": "stdout",
     "output_type": "stream",
     "text": [
      "324\n",
      "1575\n",
      "125\n",
      "500\n",
      "\n",
      "500    40.0\n",
      "\n",
      "2524   201.92000000000002\n",
      "2524   201.92000000000002\n",
      "2524   201.92000000000002\n",
      "2524   201.92000000000002\n",
      "\n",
      "201.92000000000002\n",
      "201.92000000000002\n",
      "201.92000000000002\n",
      "201.92000000000002\n",
      "\n",
      "2524   201.92000000000002   2725.92\n"
     ]
    }
   ],
   "source": [
    "# a loop can also \"walk\" through a list\n",
    "sales = [324, 1575, 125, 500]\n",
    "for each in sales:\n",
    "    print(each)\n",
    "print()\n",
    "\n",
    "# Assume that you work at a furniture store that is have a \"no sales tax\" sale.\n",
    "# a_list contains your sales for the day\n",
    "# for each sale, list the amount of sales tax (8%) that the store owes the state\n",
    "\n",
    "print(each, \"  \", each * 0.08)\n",
    "print()\n",
    "\n",
    "# b. Using a loop, compute your sales total and sales tax owed for the day\n",
    "#    (Don't worry if the sales tax total looks funny, we will learn about\n",
    "#     formatting floating point numbers in Part B)\n",
    "\n",
    "# COMMENT Did not use a loop, what if we had 100 days of sales figures instead of just 4?\n",
    "sales_total = (324 + 1575 + 125 + 500)\n",
    "sales_tax = (sales_total * 0.08)\n",
    "\n",
    "for each in sales:\n",
    "    print(sales_total, \" \", sales_tax)  \n",
    "print() \n",
    "#Is this more what you were looking for? Also, I don't think it's your explanations. I think I'm having a hard time getting back in the swing of graduate school, so I'm not quite understanding\n",
    "for each in sales:\n",
    "    print(sum(sales) * 0.08)\n",
    "print()\n",
    "\n",
    "#I think I'm doing something wrong/missing the right syntax \n",
    "\n",
    "# COMMENT This is the pythonic way of doing it\n",
    "sales_total2 =  sum(sales)\n",
    "sales_tax2 =  (sales_total2 * 0.08) # COMMENT 8% tax would be 0.08 not 8.08 \n",
    "\n",
    "\n",
    "print(sales_total2, \" \", sales_tax2, \" \", sales_total2 + sales_tax2)\n",
    "\n",
    "#I think I fixed it\n"
   ]
  },
  {
   "cell_type": "code",
   "execution_count": 68,
   "metadata": {},
   "outputs": [
    {
     "name": "stdout",
     "output_type": "stream",
     "text": [
      "3     True\n",
      ".     False\n",
      "1     True\n",
      "4     True\n",
      "\n"
     ]
    }
   ],
   "source": [
    "# Strings can be viewed as a list of characters\n",
    "a_string = \"3.14\"\n",
    "for character in a_string:\n",
    "    print(character, \"   \", character.isnumeric())\n",
    "print()\n"
   ]
  },
  {
   "cell_type": "code",
   "execution_count": 73,
   "metadata": {},
   "outputs": [
    {
     "name": "stdout",
     "output_type": "stream",
     "text": [
      "3   True   False\n",
      ".   False   True\n",
      "1   True   False\n",
      "4   True   False\n"
     ]
    }
   ],
   "source": [
    "# c. For each character in a_string, print if the character is a number or a decimal point\n",
    "#    Hint: can test for decimal point with  ==\".\"\n",
    "#    Test your code with several different strings\n",
    "a_string = \"3.14\"\n",
    "\n",
    "for character in a_string:\n",
    "    print(character, \" \", character.isnumeric(), \" \", character ==\".\")"
   ]
  },
  {
   "cell_type": "code",
   "execution_count": 15,
   "metadata": {},
   "outputs": [
    {
     "name": "stdout",
     "output_type": "stream",
     "text": [
      "Unique digits:\n",
      "{'5', '4', '8', '9', '2', '1'}\n",
      "['1', '2', '4', '5', '8', '9']\n"
     ]
    }
   ],
   "source": [
    "# A set can contain each item only once. It is a good way to collect the \n",
    "# unique values in a group of values.\n",
    "a_set = set()\n",
    "a_string = \"241194285\"\n",
    "for each in a_string:\n",
    "    a_set.add(each)\n",
    "print(\"Unique digits:\")\n",
    "print(a_set)\n",
    "\n",
    "# if you want the set sorted, create a list from the set and sort the list\n",
    "a_list = list(a_set)\n",
    "a_list.sort()\n",
    "print(a_list)"
   ]
  },
  {
   "cell_type": "code",
   "execution_count": 74,
   "metadata": {},
   "outputs": [
    {
     "name": "stdout",
     "output_type": "stream",
     "text": [
      "Password is too short\n",
      "\n",
      "Great!\n",
      "\n",
      "Too long!\n"
     ]
    }
   ],
   "source": [
    "# if / elif / else statements allow your code to make choices\n",
    "# Here are examples of each...\n",
    "password = \"NotGood\"\n",
    "\n",
    "if len(password) < 8:\n",
    "    print(\"Password is too short\")\n",
    "print()\n",
    "\n",
    "password = \"Thisis_a_along_P4ssw0rd!\"\n",
    "if len(password) < 8:\n",
    "    print(\"Too short!\")\n",
    "else:\n",
    "    print(\"Great!\")\n",
    "print()\n",
    "\n",
    "if len(password) < 8:\n",
    "    print(\"Too short!\")\n",
    "elif len(password) > 16:\n",
    "    print(\"Too long!\")\n",
    "else:\n",
    "    print(\"Great!\")"
   ]
  },
  {
   "cell_type": "code",
   "execution_count": 71,
   "metadata": {},
   "outputs": [
    {
     "name": "stdout",
     "output_type": "stream",
     "text": [
      "all > 200 False\n",
      "\n",
      "False\n",
      "\n",
      "False\n",
      "\n",
      "\n",
      "False\n",
      "\n",
      "\n",
      "True\n",
      "\n",
      "\n"
     ]
    }
   ],
   "source": [
    "# looping through a collection and checking each member is a common task\n",
    "sales = [324, 1575, 125, 500]\n",
    "\n",
    "# are all of the sales above $200\n",
    "above = True\n",
    "for each in sales:\n",
    "    if each <= 200:\n",
    "        above = False\n",
    "# can print the answer after testing all items in the list\n",
    "print(\"all > 200\", above)\n",
    "print()\n",
    "\n",
    "# d. You know enough to replicate many of the string functions from Python.\n",
    "#    Use a loop to test all of the characters in string. Print True if all\n",
    "#    of the characters are lowercase. (Ignore punctuation.)\n",
    "\n",
    "\n",
    "# COMMENT -5 pts Print True if all of the characters are lowercase, not whether each character is lowercase.\n",
    "#         \"miss\" print 1 True\n",
    "#         \"Miss\" print 1 False\n",
    "#         \"mISs\" print 1 False\n",
    "#         \"MISS\" print 1 False\n",
    "a_string = \"Mississippi\" # try MississIppi and missiSsippi as well\n",
    "string = True\n",
    "for each in a_string:\n",
    "    if each .isupper():\n",
    "        string = False\n",
    "print(string)\n",
    "print()\n",
    "\n",
    "a_string2 = \"MiSsiSsiPpI\"\n",
    "\n",
    "string = True\n",
    "for each in a_string2:\n",
    "    if each .isupper():\n",
    "        string = False\n",
    "print(string)\n",
    "print()\n",
    "print()\n",
    "\n",
    "a_string3 = \"MississIppi\"\n",
    "\n",
    "string = True\n",
    "for each in a_string3:\n",
    "    if each .isupper():\n",
    "        string = False\n",
    "print(string)\n",
    "print()\n",
    "print()\n",
    "\n",
    "a_string4 = \"mississippi\"\n",
    "\n",
    "string = True\n",
    "for each in a_string4:\n",
    "    if each .isupper():\n",
    "        string = False\n",
    "print(string)\n",
    "print()\n",
    "print()"
   ]
  },
  {
   "cell_type": "markdown",
   "metadata": {},
   "source": [
    "-----\n",
    "## 3 Putting It All Together \n"
   ]
  },
  {
   "cell_type": "code",
   "execution_count": 77,
   "metadata": {},
   "outputs": [
    {
     "name": "stdout",
     "output_type": "stream",
     "text": [
      "17\n",
      "34\n",
      "51\n",
      "68\n",
      "85\n",
      "102\n",
      "119\n",
      "136\n",
      "153\n",
      "170\n",
      "187\n",
      "204\n",
      "221\n",
      "238\n",
      "255\n",
      "272\n",
      "289\n",
      "306\n",
      "323\n",
      "340\n",
      "357\n",
      "374\n",
      "391\n"
     ]
    }
   ],
   "source": [
    "# a. Create a list of the integers between 1 and 400 that are divisible by 17,\n",
    "#    print the list\n",
    "\n",
    "divisible_by_17 = range(1, 401)\n",
    "#print(divisible_by_17)\n",
    "\n",
    "#I'm not entirely sure if I'm answering these questions completely\n",
    "#for number in divisible_by_17:\n",
    "    #print(number, \" \", end= \"\")\n",
    "    #if number % 17:\n",
    "        #print(True)\n",
    "    #else:\n",
    "        #print(False)\n",
    "\n",
    "\n",
    "for i in divisible_by_17:\n",
    "    if i % 17 == 0:\n",
    "        print(i)\n",
    "\n",
    "# COMMENT -5 pts, 18 is not divisible by 17, 35 is not divisible by 17\n",
    "#         Should print 17, 34, 51, ...."
   ]
  },
  {
   "cell_type": "code",
   "execution_count": 248,
   "metadata": {},
   "outputs": [
    {
     "name": "stdout",
     "output_type": "stream",
     "text": [
      "True\n",
      "{'j', 'v', 'f', 'a', 'y', 'q', 'h', 'o', 'x', 'b', 'e', 'g', 's', 'n', 'p', 'c', 'i', 'r', 'w', 'k', 'm', 'l', 'd', 't', 'u', 'z'}\n",
      "True\n"
     ]
    }
   ],
   "source": [
    "# b. Does the input string contain all 26 letters? Print True or False.\n",
    "#    Hints: Don't add anything other than a character to the set. \n",
    "#           Consider T and t to be the same (convert all characters to lowercase).\n",
    "\n",
    "input = \"The quickest brown fox, named Jim, jumps over the lazy dog.\"  # add lazy to the string for a true case\n",
    "lower_text = input.lower()\n",
    "letters = lower_text.replace(\",\" , \"\")\n",
    "letters_dot = letters.replace(\".\", \"\")\n",
    "letters_space = letters_dot.replace(\" \", \"\")\n",
    "\n",
    "for i in input:\n",
    "    a_set = set(letters_space)\n",
    "if len(a_set) == 26:\n",
    "        print(\"True\")\n",
    "else:\n",
    "        print(\"False\")\n",
    "\n",
    "\n",
    "print(a_set)\n",
    "print(letters_space.isalpha())\n",
    "# COMMENT -5 pts does your code work for \"aaaaaaaaaaaaaaaaaaaaaaaaaa\" 26a's, I doubt it\n",
    "#         See Discussion Board for hint\n",
    "\n",
    "#had to take out the spaces. Many more lines of code than intended, but felt the need to show work? if I need to delete any of these please let me know."
   ]
  },
  {
   "cell_type": "markdown",
   "metadata": {},
   "source": [
    "**NOTE:** To finish Lab 1 Part A, upload your completed notebook to the Canvas assignment."
   ]
  }
 ],
 "metadata": {
  "kernelspec": {
   "display_name": "Python [conda env:base] *",
   "language": "python",
   "name": "conda-base-py"
  },
  "language_info": {
   "codemirror_mode": {
    "name": "ipython",
    "version": 3
   },
   "file_extension": ".py",
   "mimetype": "text/x-python",
   "name": "python",
   "nbconvert_exporter": "python",
   "pygments_lexer": "ipython3",
   "version": "3.12.7"
  }
 },
 "nbformat": 4,
 "nbformat_minor": 4
}
